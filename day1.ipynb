{
 "cells": [
  {
   "cell_type": "code",
   "execution_count": 2,
   "metadata": {},
   "outputs": [
    {
     "name": "stdout",
     "output_type": "stream",
     "text": [
      "helo\n"
     ]
    }
   ],
   "source": [
    "print(\"helo\")"
   ]
  },
  {
   "cell_type": "code",
   "execution_count": 3,
   "metadata": {},
   "outputs": [
    {
     "name": "stdout",
     "output_type": "stream",
     "text": [
      "0\n",
      "1\n",
      "2\n",
      "3\n",
      "4\n"
     ]
    }
   ],
   "source": [
    "#range\n",
    "for i in range(0,5):\n",
    "  print(i)"
   ]
  },
  {
   "cell_type": "code",
   "execution_count": 10,
   "metadata": {},
   "outputs": [
    {
     "name": "stdout",
     "output_type": "stream",
     "text": [
      "[0, 1, 2, 3, 4, 5]\n",
      "0\n",
      "5\n"
     ]
    }
   ],
   "source": [
    "arrayofNumbers=[]\n",
    "for i in range(0,5):\n",
    "   arrayofNumbers.append(i)\n",
    "arrayofNumbers.append(5)\n",
    "print(arrayofNumbers)\n",
    "print(min(arrayofNumbers))\n",
    "print(max(arrayofNumbers))\n"
   ]
  },
  {
   "cell_type": "code",
   "execution_count": 16,
   "metadata": {},
   "outputs": [
    {
     "name": "stdout",
     "output_type": "stream",
     "text": [
      "5\n",
      "[1, 3, 5, 7, 9]\n"
     ]
    }
   ],
   "source": [
    "oddNumbers=[1,3,5,7,9]\n",
    "arr=[]\n",
    "length=len(oddNumbers)\n",
    "print(length)\n",
    "for i in range(len(oddNumbers)):\n",
    "   arr.append(oddNumbers[i])\n",
    "print(arr)\n",
    "   "
   ]
  },
  {
   "cell_type": "code",
   "execution_count": 29,
   "metadata": {},
   "outputs": [
    {
     "name": "stdout",
     "output_type": "stream",
     "text": [
      "[1, 3, 5, 7, 9, 11, 13, 15, 17, 19]\n",
      "[3, 9, 15]\n",
      "[9, 81, 225]\n"
     ]
    }
   ],
   "source": [
    "odd=[]\n",
    "for i in range(0,20):\n",
    "    if(i%2 != 0):\n",
    "      odd.append(i)\n",
    "print(odd) \n",
    "#filter\n",
    "def test(odd):\n",
    "  return odd%3 ==0\n",
    "result=list(filter(test,odd))\n",
    "print(result) \n",
    "\n",
    "def square(num):\n",
    "  return num*num\n",
    "\n",
    "res=list(map(square, result))\n",
    "print(res)"
   ]
  },
  {
   "cell_type": "code",
   "execution_count": 32,
   "metadata": {},
   "outputs": [
    {
     "name": "stdout",
     "output_type": "stream",
     "text": [
      "{0: 1}\n",
      "{1: 2}\n",
      "{2: 3}\n",
      "{3: 4}\n",
      "{4: 5}\n",
      "{5: 6}\n",
      "{0: 'Manish'}\n",
      "{1: 'prakash'}\n",
      "{2: 'Hello'}\n"
     ]
    }
   ],
   "source": [
    "#enumerate\n",
    "array=[1,2,3,4,5,6]\n",
    "for i,name in enumerate(array):\n",
    "  print({i:name})\n",
    "arrayofNames =[\"Manish\",\"prakash\",\"Hello\"]\n",
    "for i,name in enumerate(arrayofNames):\n",
    "  print({i:name})\n"
   ]
  },
  {
   "cell_type": "code",
   "execution_count": 37,
   "metadata": {},
   "outputs": [
    {
     "name": "stdout",
     "output_type": "stream",
     "text": [
      "4 1\n",
      "5 2\n",
      "6 3\n"
     ]
    }
   ],
   "source": [
    "firstArray=[1,2,3]\n",
    "secondArray=[4,5,6]\n",
    "\n",
    "for s,f in zip(firstArray,secondArray):\n",
    "  print(f,s)\n",
    "   "
   ]
  },
  {
   "cell_type": "code",
   "execution_count": 38,
   "metadata": {},
   "outputs": [
    {
     "name": "stdout",
     "output_type": "stream",
     "text": [
      "5\n"
     ]
    }
   ],
   "source": [
    "#function to calculate sum\n",
    "def sum(a,b):\n",
    "  return a+b\n",
    "result =sum(2,3)\n",
    "print(result)"
   ]
  },
  {
   "cell_type": "code",
   "execution_count": 41,
   "metadata": {},
   "outputs": [
    {
     "name": "stdout",
     "output_type": "stream",
     "text": [
      "(1, 'hello', True)\n"
     ]
    }
   ],
   "source": [
    "#tuples(immutable in nature)\n",
    "tuplesexaples=(1,\"hello\",True)\n",
    "print(tuplesexaples)"
   ]
  },
  {
   "cell_type": "code",
   "execution_count": null,
   "metadata": {},
   "outputs": [],
   "source": [
    "for i in range(0,20)\n",
    " "
   ]
  }
 ],
 "metadata": {
  "kernelspec": {
   "display_name": "Python 3",
   "language": "python",
   "name": "python3"
  },
  "language_info": {
   "codemirror_mode": {
    "name": "ipython",
    "version": 3
   },
   "file_extension": ".py",
   "mimetype": "text/x-python",
   "name": "python",
   "nbconvert_exporter": "python",
   "pygments_lexer": "ipython3",
   "version": "3.11.3"
  },
  "orig_nbformat": 4
 },
 "nbformat": 4,
 "nbformat_minor": 2
}
